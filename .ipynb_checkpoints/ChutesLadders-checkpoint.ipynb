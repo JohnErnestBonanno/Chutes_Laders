{
 "cells": [
  {
   "cell_type": "markdown",
   "metadata": {},
   "source": [
    "ToDo:\n",
    "    * Write Goals and purpose of this\n",
    "    * Change ladderStart and chuteStart to snake_case\n",
    "    * turn off spell check\n",
    "    * change functions to lowercase and snake case\n",
    "    * add better documentation for single_game_chutes_n_ladders()\n",
    "    * add documentation for MultipleGamesChutesAndLadders \n",
    "        * create file_name\n",
    "    * spell folder_name correctly"
   ]
  },
  {
   "cell_type": "markdown",
   "metadata": {},
   "source": [
    "Goals:\n",
    "* Make this code better  "
   ]
  },
  {
   "cell_type": "code",
   "execution_count": 1,
   "metadata": {},
   "outputs": [],
   "source": [
    "# import statements\n",
    "import pandas as pd\n",
    "import random"
   ]
  },
  {
   "cell_type": "code",
   "execution_count": 2,
   "metadata": {},
   "outputs": [],
   "source": [
    "columnNames = ['turn','die_value','position_start','postion_end']\n",
    "ChutesLaddersDF = pd.DataFrame(columns=columnNames)"
   ]
  },
  {
   "cell_type": "code",
   "execution_count": 5,
   "metadata": {},
   "outputs": [],
   "source": [
    "def single_game_chutes_n_ladders():\n",
    "    \"\"\"Returns a simulation of a single player's positions in Chutes & Ladders as a Pandas DataFrame.\n",
    "    Specific fields include:\n",
    "        - turn: the turn number \n",
    "        - die_value: the die value [1-6]\n",
    "        - position_start: the starting position \n",
    "        - position_end\n",
    "    \"\"\"\n",
    "    populate_list = []\n",
    "    \n",
    "    #turn | die_roll | position_start | position_end\n",
    "    my_fields = [1, #turn: starts at 1\n",
    "                 0, #die_roll: \n",
    "                 0, #position_start: player starts off the board at 0 and can roll a 1\n",
    "                 1] #position end: where player ends their turn after applying chutes & ladders\n",
    "    i = 1\n",
    "\n",
    "    ladderStart = [1,4,9,21,28,36,51,71,80]\n",
    "    ladderEnd = [38,14,31,42,84,44,67,91,100]\n",
    "\n",
    "    chuteStart = [16,47,49,56,62,64,93,95,98]\n",
    "    chuteEnd = [6,26,11,53,19,60,73,75,78]\n",
    "\n",
    "\n",
    "    while my_fields[3]<100: \n",
    "        #turn counter\n",
    "        my_fields[0] = i\n",
    "\n",
    "        #die roll\n",
    "        die = random.randint(1,6)\n",
    "        my_fields[1] = die\n",
    "\n",
    "        #sets next turn's position_start as the current position_end\n",
    "        my_fields[2] = my_fields[3]\n",
    "\n",
    "        #PostitionEnd Update\n",
    "\n",
    "        if(die+my_fields[3])>100: #Can't exceed 100 logic\n",
    "            my_fields[3]\n",
    "        else:\n",
    "            my_fields[3] =+ die + my_fields[3]\n",
    "\n",
    "\n",
    "    #For both chutes & Ladders\n",
    "    #If position end, is on the start of a chute/ladder\n",
    "    #-take its index\n",
    "    #and reset PositionEnd to the associated chute/ladder end list\n",
    "\n",
    "     #Chute List\n",
    "        if(my_fields[3] in chuteStart):\n",
    "            # print(\"You Hit a Chute\")\n",
    "            # print(\"Your Number is:\",my_fields[3])\n",
    "            my_fields[3]=chuteEnd[chuteStart.index(my_fields[3])]\n",
    "            # print(\"Your new spot is\",my_fields[3])   \n",
    "     #Ladder List\n",
    "        if(my_fields[3] in ladderStart):\n",
    "            # print(\"You Hit a Ladder\")\n",
    "            # print(\"Your Number is:\",my_list[3])\n",
    "            my_fields[3]=ladderEnd[ladderStart.index(my_fields[3])]\n",
    "            # print(\"Your new spot is\",my_fields[3])\n",
    "\n",
    "        temp_list = my_fields.copy() #needed to copy the list, because was having assignment issues\n",
    "        populate_list.append(temp_list)\n",
    "        i=i+1\n",
    "    ChutesLaddersDF = pd.DataFrame(populate_list, columns=columnNames)\n",
    "    return(ChutesLaddersDF)"
   ]
  },
  {
   "cell_type": "code",
   "execution_count": 6,
   "metadata": {},
   "outputs": [
    {
     "data": {
      "text/html": [
       "<div>\n",
       "<style scoped>\n",
       "    .dataframe tbody tr th:only-of-type {\n",
       "        vertical-align: middle;\n",
       "    }\n",
       "\n",
       "    .dataframe tbody tr th {\n",
       "        vertical-align: top;\n",
       "    }\n",
       "\n",
       "    .dataframe thead th {\n",
       "        text-align: right;\n",
       "    }\n",
       "</style>\n",
       "<table border=\"1\" class=\"dataframe\">\n",
       "  <thead>\n",
       "    <tr style=\"text-align: right;\">\n",
       "      <th></th>\n",
       "      <th>turn</th>\n",
       "      <th>die_value</th>\n",
       "      <th>position_start</th>\n",
       "      <th>postion_end</th>\n",
       "    </tr>\n",
       "  </thead>\n",
       "  <tbody>\n",
       "    <tr>\n",
       "      <th>6</th>\n",
       "      <td>7</td>\n",
       "      <td>5</td>\n",
       "      <td>84</td>\n",
       "      <td>89</td>\n",
       "    </tr>\n",
       "    <tr>\n",
       "      <th>7</th>\n",
       "      <td>8</td>\n",
       "      <td>4</td>\n",
       "      <td>89</td>\n",
       "      <td>73</td>\n",
       "    </tr>\n",
       "    <tr>\n",
       "      <th>8</th>\n",
       "      <td>9</td>\n",
       "      <td>1</td>\n",
       "      <td>73</td>\n",
       "      <td>74</td>\n",
       "    </tr>\n",
       "    <tr>\n",
       "      <th>9</th>\n",
       "      <td>10</td>\n",
       "      <td>2</td>\n",
       "      <td>74</td>\n",
       "      <td>76</td>\n",
       "    </tr>\n",
       "    <tr>\n",
       "      <th>10</th>\n",
       "      <td>11</td>\n",
       "      <td>4</td>\n",
       "      <td>76</td>\n",
       "      <td>100</td>\n",
       "    </tr>\n",
       "  </tbody>\n",
       "</table>\n",
       "</div>"
      ],
      "text/plain": [
       "    turn  die_value  position_start  postion_end\n",
       "6      7          5              84           89\n",
       "7      8          4              89           73\n",
       "8      9          1              73           74\n",
       "9     10          2              74           76\n",
       "10    11          4              76          100"
      ]
     },
     "execution_count": 6,
     "metadata": {},
     "output_type": "execute_result"
    }
   ],
   "source": [
    "df = single_game_chutes_n_ladders()\n",
    "df.tail()"
   ]
  },
  {
   "cell_type": "code",
   "execution_count": null,
   "metadata": {},
   "outputs": [],
   "source": [
    "def MultipleGamesChutesAndLadders(NumGames):\n",
    "    df_master = SingleGameChutesAndLadders()\n",
    "    df_master['Game'] = 1\n",
    "    for i in range(1,NumGames):\n",
    "        df_temp = SingleGameChutesAndLadders()\n",
    "        df_temp['Game'] = i + 1\n",
    "        df_master = df_master.append(df_temp)\n",
    "    df_master.reset_index(inplace = True)\n",
    "    df_master.to_csv(str(NumGames)+\"Chutes&LaddersGamesSimulated.csv\")  \n",
    "    return(df_master)"
   ]
  },
  {
   "cell_type": "code",
   "execution_count": null,
   "metadata": {},
   "outputs": [],
   "source": [
    "MultipleGamesChutesAndLadders(1000)"
   ]
  },
  {
   "cell_type": "code",
   "execution_count": null,
   "metadata": {},
   "outputs": [],
   "source": []
  },
  {
   "cell_type": "code",
   "execution_count": null,
   "metadata": {},
   "outputs": [],
   "source": [
    "df_master"
   ]
  },
  {
   "cell_type": "code",
   "execution_count": null,
   "metadata": {},
   "outputs": [],
   "source": [
    "df1 = SingleGameChutesAndLadders()\n",
    "df2 = SingleGameChutesAndLadders()"
   ]
  },
  {
   "cell_type": "code",
   "execution_count": null,
   "metadata": {},
   "outputs": [],
   "source": [
    "df1.head()"
   ]
  },
  {
   "cell_type": "code",
   "execution_count": null,
   "metadata": {},
   "outputs": [],
   "source": [
    "df2.head()"
   ]
  },
  {
   "cell_type": "code",
   "execution_count": null,
   "metadata": {},
   "outputs": [],
   "source": [
    "master = pd.concat([df1,df2])"
   ]
  },
  {
   "cell_type": "code",
   "execution_count": null,
   "metadata": {},
   "outputs": [],
   "source": [
    "master2 = df1.append(df2)"
   ]
  },
  {
   "cell_type": "code",
   "execution_count": null,
   "metadata": {},
   "outputs": [],
   "source": [
    "master2"
   ]
  },
  {
   "cell_type": "code",
   "execution_count": null,
   "metadata": {},
   "outputs": [],
   "source": [
    "master"
   ]
  },
  {
   "cell_type": "code",
   "execution_count": null,
   "metadata": {},
   "outputs": [],
   "source": [
    "ChutesLaddersDF"
   ]
  }
 ],
 "metadata": {
  "kernelspec": {
   "display_name": "Python 3 (ipykernel)",
   "language": "python",
   "name": "python3"
  },
  "language_info": {
   "codemirror_mode": {
    "name": "ipython",
    "version": 3
   },
   "file_extension": ".py",
   "mimetype": "text/x-python",
   "name": "python",
   "nbconvert_exporter": "python",
   "pygments_lexer": "ipython3",
   "version": "3.9.13"
  }
 },
 "nbformat": 4,
 "nbformat_minor": 4
}
